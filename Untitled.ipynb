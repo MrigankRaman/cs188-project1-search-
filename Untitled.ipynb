{
 "cells": [
  {
   "cell_type": "code",
   "execution_count": 1,
   "metadata": {},
   "outputs": [
    {
     "name": "stdout",
     "output_type": "stream",
     "text": [
      "Pacman emerges victorious! Score: 1461\n",
      "Average Score: 1461.0\n",
      "Scores:        1461.0\n",
      "Win Rate:      1/1 (1.00)\n",
      "Record:        Win\n"
     ]
    }
   ],
   "source": [
    "%run pacman.py"
   ]
  },
  {
   "cell_type": "code",
   "execution_count": 2,
   "metadata": {},
   "outputs": [
    {
     "name": "stdout",
     "output_type": "stream",
     "text": [
      "Pacman emerges victorious! Score: 503\n",
      "Average Score: 503.0\n",
      "Scores:        503.0\n",
      "Win Rate:      1/1 (1.00)\n",
      "Record:        Win\n"
     ]
    }
   ],
   "source": [
    "%run pacman.py --layout testMaze --pacman GoWestAgent\n"
   ]
  },
  {
   "cell_type": "code",
   "execution_count": 5,
   "metadata": {},
   "outputs": [
    {
     "name": "stdout",
     "output_type": "stream",
     "text": [
      "Pacman died! Score: -286\n",
      "Average Score: -286.0\n",
      "Scores:        -286.0\n",
      "Win Rate:      0/1 (0.00)\n",
      "Record:        Loss\n"
     ]
    }
   ],
   "source": [
    "%run pacman.py"
   ]
  },
  {
   "cell_type": "code",
   "execution_count": 10,
   "metadata": {},
   "outputs": [],
   "source": [
    "%run pacman.py --layout tinyMaze --pacman GoWestAgent\n"
   ]
  },
  {
   "cell_type": "code",
   "execution_count": 2,
   "metadata": {},
   "outputs": [
    {
     "name": "stdout",
     "output_type": "stream",
     "text": [
      "[SearchAgent] using function tinyMazeSearch\n",
      "[SearchAgent] using problem type PositionSearchProblem\n",
      "Path found with total cost of 8 in 0.0 seconds\n",
      "Search nodes expanded: 0\n",
      "Pacman emerges victorious! Score: 502\n",
      "Average Score: 502.0\n",
      "Scores:        502.0\n",
      "Win Rate:      1/1 (1.00)\n",
      "Record:        Win\n"
     ]
    }
   ],
   "source": [
    "%run pacman.py -l tinyMaze -p SearchAgent -a fn=tinyMazeSearch\n"
   ]
  },
  {
   "cell_type": "code",
   "execution_count": 1,
   "metadata": {},
   "outputs": [
    {
     "name": "stdout",
     "output_type": "stream",
     "text": [
      "Starting on 5-30 at 15:19:21\n",
      "\n",
      "Question q1\n",
      "===========\n",
      "*** PASS: test_cases\\q1\\graph_backtrack.test\n",
      "*** \tsolution:\t\t['1:A->C', '0:C->G']\n",
      "*** \texpanded_states:\t['A', 'D', 'C']\n",
      "*** PASS: test_cases\\q1\\graph_bfs_vs_dfs.test\n",
      "*** \tsolution:\t\t['2:A->D', '0:D->G']\n",
      "*** \texpanded_states:\t['A', 'D']\n",
      "*** PASS: test_cases\\q1\\graph_infinite.test\n",
      "*** \tsolution:\t\t['0:A->B', '1:B->C', '1:C->G']\n",
      "*** \texpanded_states:\t['A', 'B', 'C']\n",
      "*** PASS: test_cases\\q1\\graph_manypaths.test\n",
      "*** \tsolution:\t\t['2:A->B2', '0:B2->C', '0:C->D', '2:D->E2', '0:E2->F', '0:F->G']\n",
      "*** \texpanded_states:\t['A', 'B2', 'C', 'D', 'E2', 'F']\n",
      "*** PASS: test_cases\\q1\\pacman_1.test\n",
      "*** \tpacman layout:\t\tmediumMaze\n",
      "*** \tsolution length: 130\n",
      "*** \tnodes expanded:\t\t159\n",
      "\n",
      "### Question q1: 3/3 ###\n",
      "\n",
      "\n",
      "Question q2\n",
      "===========\n",
      "*** PASS: test_cases\\q2\\graph_backtrack.test\n",
      "*** \tsolution:\t\t['1:A->C', '0:C->G']\n",
      "*** \texpanded_states:\t['A', 'B', 'C', 'D']\n",
      "*** PASS: test_cases\\q2\\graph_bfs_vs_dfs.test\n",
      "*** \tsolution:\t\t['1:A->G']\n",
      "*** \texpanded_states:\t['A', 'B']\n",
      "*** PASS: test_cases\\q2\\graph_infinite.test\n",
      "*** \tsolution:\t\t['0:A->B', '1:B->C', '1:C->G']\n",
      "*** \texpanded_states:\t['A', 'B', 'C']\n",
      "*** PASS: test_cases\\q2\\graph_manypaths.test\n",
      "*** \tsolution:\t\t['1:A->C', '0:C->D', '1:D->F', '0:F->G']\n",
      "*** \texpanded_states:\t['A', 'B1', 'C', 'B2', 'D', 'E1', 'F', 'E2']\n",
      "*** PASS: test_cases\\q2\\pacman_1.test\n",
      "*** \tpacman layout:\t\tmediumMaze\n",
      "*** \tsolution length: 68\n",
      "*** \tnodes expanded:\t\t269\n",
      "\n",
      "### Question q2: 3/3 ###\n",
      "\n",
      "\n",
      "Question q3\n",
      "===========\n",
      "*** PASS: test_cases\\q3\\graph_backtrack.test\n",
      "*** \tsolution:\t\t['1:A->C', '0:C->G']\n",
      "*** \texpanded_states:\t['A', 'B', 'C', 'D']\n",
      "*** PASS: test_cases\\q3\\graph_bfs_vs_dfs.test\n",
      "*** \tsolution:\t\t['1:A->G']\n",
      "*** \texpanded_states:\t['A', 'B']\n",
      "*** PASS: test_cases\\q3\\graph_infinite.test\n",
      "*** \tsolution:\t\t['0:A->B', '1:B->C', '1:C->G']\n",
      "*** \texpanded_states:\t['A', 'B', 'C']\n",
      "*** PASS: test_cases\\q3\\graph_manypaths.test\n",
      "*** \tsolution:\t\t['1:A->C', '0:C->D', '1:D->F', '0:F->G']\n",
      "*** \texpanded_states:\t['A', 'B1', 'C', 'B2', 'D', 'E1', 'F', 'E2']\n",
      "*** PASS: test_cases\\q3\\ucs_0_graph.test\n",
      "*** \tsolution:\t\t['Right', 'Down', 'Down']\n",
      "*** \texpanded_states:\t['A', 'B', 'D', 'C', 'G']\n",
      "*** PASS: test_cases\\q3\\ucs_1_problemC.test\n",
      "*** \tpacman layout:\t\tmediumMaze\n",
      "*** \tsolution length: 68\n",
      "*** \tnodes expanded:\t\t269\n",
      "*** PASS: test_cases\\q3\\ucs_2_problemE.test\n",
      "*** \tpacman layout:\t\tmediumMaze\n",
      "*** \tsolution length: 74\n",
      "*** \tnodes expanded:\t\t260\n",
      "*** PASS: test_cases\\q3\\ucs_3_problemW.test\n",
      "*** \tpacman layout:\t\tmediumMaze\n",
      "*** \tsolution length: 152\n",
      "*** \tnodes expanded:\t\t173\n",
      "*** PASS: test_cases\\q3\\ucs_4_testSearch.test\n",
      "*** \tpacman layout:\t\ttestSearch\n",
      "*** \tsolution length: 7\n",
      "*** \tnodes expanded:\t\t14\n",
      "*** PASS: test_cases\\q3\\ucs_5_goalAtDequeue.test\n",
      "*** \tsolution:\t\t['1:A->B', '0:B->C', '0:C->G']\n",
      "*** \texpanded_states:\t['A', 'B', 'C']\n",
      "\n",
      "### Question q3: 3/3 ###\n",
      "\n",
      "\n",
      "Question q4\n",
      "===========\n",
      "*** PASS: test_cases\\q4\\astar_0.test\n",
      "*** \tsolution:\t\t['Right', 'Down', 'Down']\n",
      "*** \texpanded_states:\t['A', 'B', 'D', 'C', 'G']\n",
      "*** PASS: test_cases\\q4\\astar_1_graph_heuristic.test\n",
      "*** \tsolution:\t\t['0', '0', '2']\n",
      "*** \texpanded_states:\t['S', 'A', 'D', 'C']\n",
      "*** PASS: test_cases\\q4\\astar_2_manhattan.test\n",
      "*** \tpacman layout:\t\tmediumMaze\n",
      "*** \tsolution length: 68\n",
      "*** \tnodes expanded:\t\t221\n",
      "*** PASS: test_cases\\q4\\astar_3_goalAtDequeue.test\n",
      "*** \tsolution:\t\t['1:A->B', '0:B->C', '0:C->G']\n",
      "*** \texpanded_states:\t['A', 'B', 'C']\n",
      "*** PASS: test_cases\\q4\\graph_backtrack.test\n",
      "*** \tsolution:\t\t['1:A->C', '0:C->G']\n",
      "*** \texpanded_states:\t['A', 'B', 'C', 'D']\n",
      "*** PASS: test_cases\\q4\\graph_manypaths.test\n",
      "*** \tsolution:\t\t['1:A->C', '0:C->D', '1:D->F', '0:F->G']\n",
      "*** \texpanded_states:\t['A', 'B1', 'C', 'B2', 'D', 'E1', 'F', 'E2']\n",
      "\n",
      "### Question q4: 3/3 ###\n",
      "\n",
      "\n",
      "Question q5\n",
      "===========\n",
      "*** PASS: test_cases\\q5\\corner_tiny_corner.test\n",
      "*** \tpacman layout:\t\ttinyCorner\n",
      "*** \tsolution length:\t\t28\n",
      "\n",
      "### Question q5: 3/3 ###\n",
      "\n",
      "\n",
      "Question q6\n",
      "===========\n",
      "*** PASS: heuristic value less than true cost at start state\n",
      "*** PASS: heuristic value less than true cost at start state\n",
      "*** PASS: heuristic value less than true cost at start state\n",
      "path: ['North', 'East', 'East', 'East', 'East', 'North', 'North', 'West', 'West', 'West', 'West', 'West', 'West', 'South', 'South', 'South', 'West', 'West', 'North', 'East', 'East', 'North', 'North', 'North', 'North', 'East', 'East', 'North', 'North', 'North', 'North', 'North', 'North', 'West', 'West', 'West', 'West', 'East', 'East', 'East', 'East', 'South', 'South', 'South', 'South', 'South', 'South', 'South', 'South', 'East', 'East', 'East', 'East', 'East', 'East', 'South', 'South', 'East', 'East', 'East', 'East', 'East', 'North', 'North', 'East', 'East', 'North', 'North', 'East', 'East', 'North', 'North', 'East', 'East', 'East', 'East', 'South', 'South', 'South', 'South', 'East', 'East', 'North', 'North', 'East', 'East', 'South', 'South', 'South', 'South', 'South', 'North', 'North', 'North', 'North', 'North', 'North', 'North', 'West', 'West', 'North', 'North', 'East', 'East', 'North', 'North']\n",
      "path length: 106\n",
      "*** FAIL: Heuristic resulted in expansion of 1289 nodes\n",
      "\n",
      "### Question q6: 2/3 ###\n",
      "\n",
      "\n",
      "Question q7\n",
      "===========\n",
      "*** PASS: test_cases\\q7\\food_heuristic_1.test\n",
      "*** PASS: test_cases\\q7\\food_heuristic_10.test\n",
      "*** PASS: test_cases\\q7\\food_heuristic_11.test\n",
      "*** PASS: test_cases\\q7\\food_heuristic_12.test\n",
      "*** PASS: test_cases\\q7\\food_heuristic_13.test\n",
      "*** PASS: test_cases\\q7\\food_heuristic_14.test\n",
      "*** PASS: test_cases\\q7\\food_heuristic_15.test\n",
      "*** PASS: test_cases\\q7\\food_heuristic_16.test\n",
      "*** PASS: test_cases\\q7\\food_heuristic_17.test\n",
      "*** PASS: test_cases\\q7\\food_heuristic_2.test\n",
      "*** PASS: test_cases\\q7\\food_heuristic_3.test\n",
      "*** PASS: test_cases\\q7\\food_heuristic_4.test\n",
      "*** PASS: test_cases\\q7\\food_heuristic_5.test\n",
      "*** PASS: test_cases\\q7\\food_heuristic_6.test\n",
      "*** PASS: test_cases\\q7\\food_heuristic_7.test\n",
      "*** PASS: test_cases\\q7\\food_heuristic_8.test\n",
      "*** PASS: test_cases\\q7\\food_heuristic_9.test\n",
      "*** FAIL: test_cases\\q7\\food_heuristic_grade_tricky.test\n",
      "*** \texpanded nodes: 11254\n",
      "*** \tthresholds: [15000, 12000, 9000, 7000]\n",
      "\n",
      "### Question q7: 3/4 ###\n",
      "\n",
      "\n",
      "Question q8\n",
      "===========\n",
      "[SearchAgent] using function depthFirstSearch\n",
      "[SearchAgent] using problem type PositionSearchProblem\n",
      "*** PASS: test_cases\\q8\\closest_dot_1.test\n",
      "*** \tpacman layout:\t\tTest 1\n",
      "*** \tsolution length:\t\t1\n",
      "[SearchAgent] using function depthFirstSearch\n",
      "[SearchAgent] using problem type PositionSearchProblem\n",
      "*** PASS: test_cases\\q8\\closest_dot_10.test\n",
      "*** \tpacman layout:\t\tTest 10\n",
      "*** \tsolution length:\t\t1\n",
      "[SearchAgent] using function depthFirstSearch\n",
      "[SearchAgent] using problem type PositionSearchProblem\n",
      "*** PASS: test_cases\\q8\\closest_dot_11.test\n",
      "*** \tpacman layout:\t\tTest 11\n",
      "*** \tsolution length:\t\t2\n",
      "[SearchAgent] using function depthFirstSearch\n",
      "[SearchAgent] using problem type PositionSearchProblem\n",
      "*** PASS: test_cases\\q8\\closest_dot_12.test\n",
      "*** \tpacman layout:\t\tTest 12\n",
      "*** \tsolution length:\t\t3\n",
      "[SearchAgent] using function depthFirstSearch\n",
      "[SearchAgent] using problem type PositionSearchProblem\n",
      "*** PASS: test_cases\\q8\\closest_dot_13.test\n",
      "*** \tpacman layout:\t\tTest 13\n",
      "*** \tsolution length:\t\t1\n",
      "[SearchAgent] using function depthFirstSearch\n",
      "[SearchAgent] using problem type PositionSearchProblem\n",
      "*** PASS: test_cases\\q8\\closest_dot_2.test\n",
      "*** \tpacman layout:\t\tTest 2\n",
      "*** \tsolution length:\t\t1\n",
      "[SearchAgent] using function depthFirstSearch\n",
      "[SearchAgent] using problem type PositionSearchProblem\n",
      "*** PASS: test_cases\\q8\\closest_dot_3.test\n",
      "*** \tpacman layout:\t\tTest 3\n",
      "*** \tsolution length:\t\t1\n",
      "[SearchAgent] using function depthFirstSearch\n",
      "[SearchAgent] using problem type PositionSearchProblem\n",
      "*** PASS: test_cases\\q8\\closest_dot_4.test\n",
      "*** \tpacman layout:\t\tTest 4\n",
      "*** \tsolution length:\t\t3\n",
      "[SearchAgent] using function depthFirstSearch\n",
      "[SearchAgent] using problem type PositionSearchProblem\n",
      "*** PASS: test_cases\\q8\\closest_dot_5.test\n",
      "*** \tpacman layout:\t\tTest 5\n",
      "*** \tsolution length:\t\t1\n",
      "[SearchAgent] using function depthFirstSearch\n",
      "[SearchAgent] using problem type PositionSearchProblem\n",
      "*** PASS: test_cases\\q8\\closest_dot_6.test\n",
      "*** \tpacman layout:\t\tTest 6\n",
      "*** \tsolution length:\t\t2\n",
      "[SearchAgent] using function depthFirstSearch\n",
      "[SearchAgent] using problem type PositionSearchProblem\n",
      "*** PASS: test_cases\\q8\\closest_dot_7.test\n",
      "*** \tpacman layout:\t\tTest 7\n",
      "*** \tsolution length:\t\t1\n",
      "[SearchAgent] using function depthFirstSearch\n",
      "[SearchAgent] using problem type PositionSearchProblem\n",
      "*** PASS: test_cases\\q8\\closest_dot_8.test\n",
      "*** \tpacman layout:\t\tTest 8\n",
      "*** \tsolution length:\t\t1\n",
      "[SearchAgent] using function depthFirstSearch\n",
      "[SearchAgent] using problem type PositionSearchProblem\n",
      "*** PASS: test_cases\\q8\\closest_dot_9.test\n",
      "*** \tpacman layout:\t\tTest 9\n",
      "*** \tsolution length:\t\t1\n",
      "\n",
      "### Question q8: 3/3 ###\n",
      "\n",
      "\n",
      "Finished at 15:20:50\n",
      "\n",
      "Provisional grades\n",
      "==================\n",
      "Question q1: 3/3\n",
      "Question q2: 3/3\n",
      "Question q3: 3/3\n",
      "Question q4: 3/3\n",
      "Question q5: 3/3\n",
      "Question q6: 2/3\n",
      "Question q7: 3/4\n",
      "Question q8: 3/3\n",
      "------------------\n",
      "Total: 23/25\n",
      "\n",
      "Your grades are NOT yet registered.  To register your grades, make sure\n",
      "to follow your instructor's guidelines to receive credit on your project.\n",
      "\n"
     ]
    }
   ],
   "source": [
    "%run autograder.py\n"
   ]
  },
  {
   "cell_type": "code",
   "execution_count": 21,
   "metadata": {},
   "outputs": [
    {
     "name": "stdout",
     "output_type": "stream",
     "text": [
      "[SearchAgent] using function depthFirstSearch\n",
      "[SearchAgent] using problem type PositionSearchProblem\n",
      "Path found with total cost of 210 in 1.6 seconds\n",
      "Search nodes expanded: 530\n"
     ]
    }
   ],
   "source": [
    "%run pacman.py -l bigMaze -z .5 -p SearchAgent\n"
   ]
  },
  {
   "cell_type": "code",
   "execution_count": 20,
   "metadata": {},
   "outputs": [
    {
     "name": "stdout",
     "output_type": "stream",
     "text": [
      "[SearchAgent] using function bfs\n",
      "[SearchAgent] using problem type PositionSearchProblem\n",
      "Path found with total cost of 210 in 2.7 seconds\n",
      "Search nodes expanded: 620\n",
      "Pacman emerges victorious! Score: 300\n",
      "Average Score: 300.0\n",
      "Scores:        300.0\n",
      "Win Rate:      1/1 (1.00)\n",
      "Record:        Win\n"
     ]
    }
   ],
   "source": [
    "%run pacman.py -l bigMaze -p SearchAgent -a fn=bfs -z .5\n"
   ]
  },
  {
   "cell_type": "code",
   "execution_count": null,
   "metadata": {},
   "outputs": [],
   "source": []
  },
  {
   "cell_type": "code",
   "execution_count": 6,
   "metadata": {},
   "outputs": [
    {
     "name": "stdout",
     "output_type": "stream",
     "text": [
      "Path found with total cost of 1 in 0.6 seconds\n",
      "Search nodes expanded: 186\n",
      "Pacman emerges victorious! Score: 646\n",
      "Average Score: 646.0\n",
      "Scores:        646.0\n",
      "Win Rate:      1/1 (1.00)\n",
      "Record:        Win\n"
     ]
    }
   ],
   "source": [
    "%run pacman.py -l mediumDottedMaze -p StayEastSearchAgent\n"
   ]
  },
  {
   "cell_type": "code",
   "execution_count": 7,
   "metadata": {},
   "outputs": [
    {
     "name": "stdout",
     "output_type": "stream",
     "text": [
      "Path found with total cost of 68719479864 in 0.4 seconds\n",
      "Search nodes expanded: 108\n"
     ]
    }
   ],
   "source": [
    "%run pacman.py -l mediumScaryMaze -p StayWestSearchAgent\n"
   ]
  },
  {
   "cell_type": "code",
   "execution_count": 2,
   "metadata": {},
   "outputs": [
    {
     "name": "stdout",
     "output_type": "stream",
     "text": [
      "[SearchAgent] using function astar and heuristic manhattanHeuristic\n",
      "[SearchAgent] using problem type PositionSearchProblem\n",
      "Path found with total cost of 210 in 1.1 seconds\n",
      "Search nodes expanded: 549\n",
      "Pacman emerges victorious! Score: 300\n",
      "Average Score: 300.0\n",
      "Scores:        300.0\n",
      "Win Rate:      1/1 (1.00)\n",
      "Record:        Win\n"
     ]
    }
   ],
   "source": [
    "%run pacman.py -l bigMaze -z .5 -p SearchAgent -a fn=astar,heuristic=manhattanHeuristic\n"
   ]
  },
  {
   "cell_type": "code",
   "execution_count": 15,
   "metadata": {},
   "outputs": [
    {
     "name": "stdout",
     "output_type": "stream",
     "text": [
      "[SearchAgent] using function bfs\n",
      "[SearchAgent] using problem type CornersProblem\n",
      "*** Method not implemented: getStartState at line 298 of searchAgents.py\n"
     ]
    },
    {
     "ename": "SystemExit",
     "evalue": "1",
     "output_type": "error",
     "traceback": [
      "An exception has occurred, use %tb to see the full traceback.\n",
      "\u001b[1;31mSystemExit\u001b[0m\u001b[1;31m:\u001b[0m 1\n"
     ]
    }
   ],
   "source": [
    "%run pacman.py -l tinyCorners -p SearchAgent -a fn=bfs,prob=CornersProblem\n"
   ]
  },
  {
   "cell_type": "code",
   "execution_count": 16,
   "metadata": {},
   "outputs": [
    {
     "ename": "SystemExit",
     "evalue": "1",
     "output_type": "error",
     "traceback": [
      "\u001b[1;31m---------------------------------------------------------------------------\u001b[0m",
      "\u001b[1;31mSystemExit\u001b[0m                                Traceback (most recent call last)",
      "\u001b[1;32m~\\Anaconda3\\lib\\site-packages\\IPython\\utils\\py3compat.py\u001b[0m in \u001b[0;36mexecfile\u001b[1;34m(fname, glob, loc, compiler)\u001b[0m\n\u001b[0;32m    186\u001b[0m     \u001b[1;32mwith\u001b[0m \u001b[0mopen\u001b[0m\u001b[1;33m(\u001b[0m\u001b[0mfname\u001b[0m\u001b[1;33m,\u001b[0m \u001b[1;34m'rb'\u001b[0m\u001b[1;33m)\u001b[0m \u001b[1;32mas\u001b[0m \u001b[0mf\u001b[0m\u001b[1;33m:\u001b[0m\u001b[1;33m\u001b[0m\u001b[1;33m\u001b[0m\u001b[0m\n\u001b[0;32m    187\u001b[0m         \u001b[0mcompiler\u001b[0m \u001b[1;33m=\u001b[0m \u001b[0mcompiler\u001b[0m \u001b[1;32mor\u001b[0m \u001b[0mcompile\u001b[0m\u001b[1;33m\u001b[0m\u001b[1;33m\u001b[0m\u001b[0m\n\u001b[1;32m--> 188\u001b[1;33m         \u001b[0mexec\u001b[0m\u001b[1;33m(\u001b[0m\u001b[0mcompiler\u001b[0m\u001b[1;33m(\u001b[0m\u001b[0mf\u001b[0m\u001b[1;33m.\u001b[0m\u001b[0mread\u001b[0m\u001b[1;33m(\u001b[0m\u001b[1;33m)\u001b[0m\u001b[1;33m,\u001b[0m \u001b[0mfname\u001b[0m\u001b[1;33m,\u001b[0m \u001b[1;34m'exec'\u001b[0m\u001b[1;33m)\u001b[0m\u001b[1;33m,\u001b[0m \u001b[0mglob\u001b[0m\u001b[1;33m,\u001b[0m \u001b[0mloc\u001b[0m\u001b[1;33m)\u001b[0m\u001b[1;33m\u001b[0m\u001b[1;33m\u001b[0m\u001b[0m\n\u001b[0m\u001b[0;32m    189\u001b[0m \u001b[1;33m\u001b[0m\u001b[0m\n\u001b[0;32m    190\u001b[0m \u001b[1;31m# Refactor print statements in doctests.\u001b[0m\u001b[1;33m\u001b[0m\u001b[1;33m\u001b[0m\u001b[1;33m\u001b[0m\u001b[0m\n",
      "\u001b[1;32m~\\Desktop\\search\\search\\pacman.py\u001b[0m in \u001b[0;36m<module>\u001b[1;34m\u001b[0m\n\u001b[0;32m    678\u001b[0m     \"\"\"\n\u001b[0;32m    679\u001b[0m     \u001b[0margs\u001b[0m \u001b[1;33m=\u001b[0m \u001b[0mreadCommand\u001b[0m\u001b[1;33m(\u001b[0m \u001b[0msys\u001b[0m\u001b[1;33m.\u001b[0m\u001b[0margv\u001b[0m\u001b[1;33m[\u001b[0m\u001b[1;36m1\u001b[0m\u001b[1;33m:\u001b[0m\u001b[1;33m]\u001b[0m \u001b[1;33m)\u001b[0m \u001b[1;31m# Get game components based on input\u001b[0m\u001b[1;33m\u001b[0m\u001b[1;33m\u001b[0m\u001b[0m\n\u001b[1;32m--> 680\u001b[1;33m     \u001b[0mrunGames\u001b[0m\u001b[1;33m(\u001b[0m \u001b[1;33m**\u001b[0m\u001b[0margs\u001b[0m \u001b[1;33m)\u001b[0m\u001b[1;33m\u001b[0m\u001b[1;33m\u001b[0m\u001b[0m\n\u001b[0m\u001b[0;32m    681\u001b[0m \u001b[1;33m\u001b[0m\u001b[0m\n\u001b[0;32m    682\u001b[0m     \u001b[1;31m# import cProfile\u001b[0m\u001b[1;33m\u001b[0m\u001b[1;33m\u001b[0m\u001b[1;33m\u001b[0m\u001b[0m\n",
      "\u001b[1;32m~\\Desktop\\search\\search\\pacman.py\u001b[0m in \u001b[0;36mrunGames\u001b[1;34m(layout, pacman, ghosts, display, numGames, record, numTraining, catchExceptions, timeout)\u001b[0m\n\u001b[0;32m    644\u001b[0m             \u001b[0mrules\u001b[0m\u001b[1;33m.\u001b[0m\u001b[0mquiet\u001b[0m \u001b[1;33m=\u001b[0m \u001b[1;32mFalse\u001b[0m\u001b[1;33m\u001b[0m\u001b[1;33m\u001b[0m\u001b[0m\n\u001b[0;32m    645\u001b[0m         \u001b[0mgame\u001b[0m \u001b[1;33m=\u001b[0m \u001b[0mrules\u001b[0m\u001b[1;33m.\u001b[0m\u001b[0mnewGame\u001b[0m\u001b[1;33m(\u001b[0m \u001b[0mlayout\u001b[0m\u001b[1;33m,\u001b[0m \u001b[0mpacman\u001b[0m\u001b[1;33m,\u001b[0m \u001b[0mghosts\u001b[0m\u001b[1;33m,\u001b[0m \u001b[0mgameDisplay\u001b[0m\u001b[1;33m,\u001b[0m \u001b[0mbeQuiet\u001b[0m\u001b[1;33m,\u001b[0m \u001b[0mcatchExceptions\u001b[0m\u001b[1;33m)\u001b[0m\u001b[1;33m\u001b[0m\u001b[1;33m\u001b[0m\u001b[0m\n\u001b[1;32m--> 646\u001b[1;33m         \u001b[0mgame\u001b[0m\u001b[1;33m.\u001b[0m\u001b[0mrun\u001b[0m\u001b[1;33m(\u001b[0m\u001b[1;33m)\u001b[0m\u001b[1;33m\u001b[0m\u001b[1;33m\u001b[0m\u001b[0m\n\u001b[0m\u001b[0;32m    647\u001b[0m         \u001b[1;32mif\u001b[0m \u001b[1;32mnot\u001b[0m \u001b[0mbeQuiet\u001b[0m\u001b[1;33m:\u001b[0m \u001b[0mgames\u001b[0m\u001b[1;33m.\u001b[0m\u001b[0mappend\u001b[0m\u001b[1;33m(\u001b[0m\u001b[0mgame\u001b[0m\u001b[1;33m)\u001b[0m\u001b[1;33m\u001b[0m\u001b[1;33m\u001b[0m\u001b[0m\n\u001b[0;32m    648\u001b[0m \u001b[1;33m\u001b[0m\u001b[0m\n",
      "\u001b[1;32m~\\Desktop\\search\\search\\game.py\u001b[0m in \u001b[0;36mrun\u001b[1;34m(self)\u001b[0m\n\u001b[0;32m    605\u001b[0m                         \u001b[1;32mreturn\u001b[0m\u001b[1;33m\u001b[0m\u001b[1;33m\u001b[0m\u001b[0m\n\u001b[0;32m    606\u001b[0m                 \u001b[1;32melse\u001b[0m\u001b[1;33m:\u001b[0m\u001b[1;33m\u001b[0m\u001b[1;33m\u001b[0m\u001b[0m\n\u001b[1;32m--> 607\u001b[1;33m                     \u001b[0magent\u001b[0m\u001b[1;33m.\u001b[0m\u001b[0mregisterInitialState\u001b[0m\u001b[1;33m(\u001b[0m\u001b[0mself\u001b[0m\u001b[1;33m.\u001b[0m\u001b[0mstate\u001b[0m\u001b[1;33m.\u001b[0m\u001b[0mdeepCopy\u001b[0m\u001b[1;33m(\u001b[0m\u001b[1;33m)\u001b[0m\u001b[1;33m)\u001b[0m\u001b[1;33m\u001b[0m\u001b[1;33m\u001b[0m\u001b[0m\n\u001b[0m\u001b[0;32m    608\u001b[0m                 \u001b[1;31m## TODO: could this exceed the total time\u001b[0m\u001b[1;33m\u001b[0m\u001b[1;33m\u001b[0m\u001b[1;33m\u001b[0m\u001b[0m\n\u001b[0;32m    609\u001b[0m                 \u001b[0mself\u001b[0m\u001b[1;33m.\u001b[0m\u001b[0munmute\u001b[0m\u001b[1;33m(\u001b[0m\u001b[1;33m)\u001b[0m\u001b[1;33m\u001b[0m\u001b[1;33m\u001b[0m\u001b[0m\n",
      "\u001b[1;32m~\\Desktop\\search\\search\\searchAgents.py\u001b[0m in \u001b[0;36mregisterInitialState\u001b[1;34m(self, state)\u001b[0m\n\u001b[0;32m    113\u001b[0m         \u001b[0mstarttime\u001b[0m \u001b[1;33m=\u001b[0m \u001b[0mtime\u001b[0m\u001b[1;33m.\u001b[0m\u001b[0mtime\u001b[0m\u001b[1;33m(\u001b[0m\u001b[1;33m)\u001b[0m\u001b[1;33m\u001b[0m\u001b[1;33m\u001b[0m\u001b[0m\n\u001b[0;32m    114\u001b[0m         \u001b[0mproblem\u001b[0m \u001b[1;33m=\u001b[0m \u001b[0mself\u001b[0m\u001b[1;33m.\u001b[0m\u001b[0msearchType\u001b[0m\u001b[1;33m(\u001b[0m\u001b[0mstate\u001b[0m\u001b[1;33m)\u001b[0m \u001b[1;31m# Makes a new search problem\u001b[0m\u001b[1;33m\u001b[0m\u001b[1;33m\u001b[0m\u001b[0m\n\u001b[1;32m--> 115\u001b[1;33m         \u001b[0mself\u001b[0m\u001b[1;33m.\u001b[0m\u001b[0mactions\u001b[0m  \u001b[1;33m=\u001b[0m \u001b[0mself\u001b[0m\u001b[1;33m.\u001b[0m\u001b[0msearchFunction\u001b[0m\u001b[1;33m(\u001b[0m\u001b[0mproblem\u001b[0m\u001b[1;33m)\u001b[0m \u001b[1;31m# Find a path\u001b[0m\u001b[1;33m\u001b[0m\u001b[1;33m\u001b[0m\u001b[0m\n\u001b[0m\u001b[0;32m    116\u001b[0m         \u001b[0mtotalCost\u001b[0m \u001b[1;33m=\u001b[0m \u001b[0mproblem\u001b[0m\u001b[1;33m.\u001b[0m\u001b[0mgetCostOfActions\u001b[0m\u001b[1;33m(\u001b[0m\u001b[0mself\u001b[0m\u001b[1;33m.\u001b[0m\u001b[0mactions\u001b[0m\u001b[1;33m)\u001b[0m\u001b[1;33m\u001b[0m\u001b[1;33m\u001b[0m\u001b[0m\n\u001b[0;32m    117\u001b[0m         \u001b[0mprint\u001b[0m\u001b[1;33m(\u001b[0m\u001b[1;34m'Path found with total cost of %d in %.1f seconds'\u001b[0m \u001b[1;33m%\u001b[0m \u001b[1;33m(\u001b[0m\u001b[0mtotalCost\u001b[0m\u001b[1;33m,\u001b[0m \u001b[0mtime\u001b[0m\u001b[1;33m.\u001b[0m\u001b[0mtime\u001b[0m\u001b[1;33m(\u001b[0m\u001b[1;33m)\u001b[0m \u001b[1;33m-\u001b[0m \u001b[0mstarttime\u001b[0m\u001b[1;33m)\u001b[0m\u001b[1;33m)\u001b[0m\u001b[1;33m\u001b[0m\u001b[1;33m\u001b[0m\u001b[0m\n",
      "\u001b[1;32m~\\Desktop\\search\\search\\search.py\u001b[0m in \u001b[0;36mbreadthFirstSearch\u001b[1;34m(problem)\u001b[0m\n\u001b[0;32m    138\u001b[0m     \u001b[1;34m\"*** YOUR CODE HERE ***\"\u001b[0m\u001b[1;33m\u001b[0m\u001b[1;33m\u001b[0m\u001b[0m\n\u001b[0;32m    139\u001b[0m     \u001b[0mq\u001b[0m \u001b[1;33m=\u001b[0m \u001b[0mutil\u001b[0m\u001b[1;33m.\u001b[0m\u001b[0mQueue\u001b[0m\u001b[1;33m(\u001b[0m\u001b[1;33m)\u001b[0m\u001b[1;33m\u001b[0m\u001b[1;33m\u001b[0m\u001b[0m\n\u001b[1;32m--> 140\u001b[1;33m     \u001b[0mq\u001b[0m\u001b[1;33m.\u001b[0m\u001b[0mpush\u001b[0m\u001b[1;33m(\u001b[0m\u001b[1;33m(\u001b[0m\u001b[0mproblem\u001b[0m\u001b[1;33m.\u001b[0m\u001b[0mgetStartState\u001b[0m\u001b[1;33m(\u001b[0m\u001b[1;33m)\u001b[0m\u001b[1;33m,\u001b[0m\u001b[1;33m[\u001b[0m\u001b[1;33m]\u001b[0m\u001b[1;33m)\u001b[0m\u001b[1;33m)\u001b[0m\u001b[1;33m\u001b[0m\u001b[1;33m\u001b[0m\u001b[0m\n\u001b[0m\u001b[0;32m    141\u001b[0m     \u001b[0mvisited\u001b[0m \u001b[1;33m=\u001b[0m \u001b[1;33m[\u001b[0m\u001b[1;33m]\u001b[0m\u001b[1;33m\u001b[0m\u001b[1;33m\u001b[0m\u001b[0m\n\u001b[0;32m    142\u001b[0m     \u001b[0mk\u001b[0m \u001b[1;33m=\u001b[0m \u001b[0mproblem\u001b[0m\u001b[1;33m.\u001b[0m\u001b[0mgetStartState\u001b[0m\u001b[1;33m(\u001b[0m\u001b[1;33m)\u001b[0m\u001b[1;33m\u001b[0m\u001b[1;33m\u001b[0m\u001b[0m\n",
      "\u001b[1;32m~\\Desktop\\search\\search\\searchAgents.py\u001b[0m in \u001b[0;36mgetStartState\u001b[1;34m(self)\u001b[0m\n\u001b[0;32m    296\u001b[0m         \u001b[1;32mreturn\u001b[0m \u001b[1;33m(\u001b[0m\u001b[0mself\u001b[0m\u001b[1;33m.\u001b[0m\u001b[0mstartingPosition\u001b[0m\u001b[1;33m,\u001b[0m \u001b[1;36m0b0000\u001b[0m\u001b[1;33m)\u001b[0m\u001b[1;33m\u001b[0m\u001b[1;33m\u001b[0m\u001b[0m\n\u001b[0;32m    297\u001b[0m \u001b[1;33m\u001b[0m\u001b[0m\n\u001b[1;32m--> 298\u001b[1;33m     \u001b[1;32mdef\u001b[0m \u001b[0misGoalState\u001b[0m\u001b[1;33m(\u001b[0m\u001b[0mself\u001b[0m\u001b[1;33m,\u001b[0m \u001b[0mstate\u001b[0m\u001b[1;33m)\u001b[0m\u001b[1;33m:\u001b[0m\u001b[1;33m\u001b[0m\u001b[1;33m\u001b[0m\u001b[0m\n\u001b[0m\u001b[0;32m    299\u001b[0m         \u001b[1;34m\"Returns whether this search state is a goal state of the problem\"\u001b[0m\u001b[1;33m\u001b[0m\u001b[1;33m\u001b[0m\u001b[0m\n\u001b[0;32m    300\u001b[0m         \u001b[1;34m\"*** YOUR CODE HERE ***\"\u001b[0m\u001b[1;33m\u001b[0m\u001b[1;33m\u001b[0m\u001b[0m\n",
      "\u001b[1;32m~\\Desktop\\search\\search\\util.py\u001b[0m in \u001b[0;36mraiseNotDefined\u001b[1;34m()\u001b[0m\n\u001b[0;32m    452\u001b[0m \u001b[1;33m\u001b[0m\u001b[0m\n\u001b[0;32m    453\u001b[0m     \u001b[0mprint\u001b[0m\u001b[1;33m(\u001b[0m\u001b[1;34m\"*** Method not implemented: %s at line %s of %s\"\u001b[0m \u001b[1;33m%\u001b[0m \u001b[1;33m(\u001b[0m\u001b[0mmethod\u001b[0m\u001b[1;33m,\u001b[0m \u001b[0mline\u001b[0m\u001b[1;33m,\u001b[0m \u001b[0mfileName\u001b[0m\u001b[1;33m)\u001b[0m\u001b[1;33m)\u001b[0m\u001b[1;33m\u001b[0m\u001b[1;33m\u001b[0m\u001b[0m\n\u001b[1;32m--> 454\u001b[1;33m     \u001b[0msys\u001b[0m\u001b[1;33m.\u001b[0m\u001b[0mexit\u001b[0m\u001b[1;33m(\u001b[0m\u001b[1;36m1\u001b[0m\u001b[1;33m)\u001b[0m\u001b[1;33m\u001b[0m\u001b[1;33m\u001b[0m\u001b[0m\n\u001b[0m\u001b[0;32m    455\u001b[0m \u001b[1;33m\u001b[0m\u001b[0m\n\u001b[0;32m    456\u001b[0m \u001b[1;32mdef\u001b[0m \u001b[0mnormalize\u001b[0m\u001b[1;33m(\u001b[0m\u001b[0mvectorOrCounter\u001b[0m\u001b[1;33m)\u001b[0m\u001b[1;33m:\u001b[0m\u001b[1;33m\u001b[0m\u001b[1;33m\u001b[0m\u001b[0m\n",
      "\u001b[1;31mSystemExit\u001b[0m: 1"
     ]
    }
   ],
   "source": [
    "%tb"
   ]
  },
  {
   "cell_type": "code",
   "execution_count": 36,
   "metadata": {},
   "outputs": [
    {
     "data": {
      "text/plain": [
       "3"
      ]
     },
     "execution_count": 36,
     "metadata": {},
     "output_type": "execute_result"
    }
   ],
   "source": [
    "bin(0b0111).count('1')"
   ]
  },
  {
   "cell_type": "code",
   "execution_count": 37,
   "metadata": {},
   "outputs": [
    {
     "data": {
      "text/plain": [
       "'b'"
      ]
     },
     "execution_count": 37,
     "metadata": {},
     "output_type": "execute_result"
    }
   ],
   "source": [
    "bin(0b0111)[1]"
   ]
  },
  {
   "cell_type": "code",
   "execution_count": null,
   "metadata": {},
   "outputs": [],
   "source": []
  }
 ],
 "metadata": {
  "kernelspec": {
   "display_name": "Python 3",
   "language": "python",
   "name": "python3"
  },
  "language_info": {
   "codemirror_mode": {
    "name": "ipython",
    "version": 3
   },
   "file_extension": ".py",
   "mimetype": "text/x-python",
   "name": "python",
   "nbconvert_exporter": "python",
   "pygments_lexer": "ipython3",
   "version": "3.7.3"
  }
 },
 "nbformat": 4,
 "nbformat_minor": 2
}
